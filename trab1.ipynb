{
 "cells": [
  {
   "cell_type": "code",
   "execution_count": 1,
   "metadata": {},
   "outputs": [],
   "source": [
    "from OpenGL.GL import *\n",
    "from config_screen import *\n",
    "from drawings import *\n",
    "from vertexes import *\n",
    "from vertexes import *\n",
    "from itertools import accumulate"
   ]
  },
  {
   "cell_type": "code",
   "execution_count": 2,
   "metadata": {},
   "outputs": [
    {
     "name": "stdout",
     "output_type": "stream",
     "text": [
      "[40, 2560, 4960, 4964, 7484, 9884]\n"
     ]
    }
   ],
   "source": [
    "# Getting all the vertexes used in our project.\n",
    "\n",
    "# Creating the house.\n",
    "house = get_vertexes_house()\n",
    "size = []\n",
    "size.append(len(house))\n",
    "\n",
    "# creating the person\n",
    "person, size_person = get_vertexes_person()\n",
    "size = size + size_person\n",
    "\n",
    "# creating the ground\n",
    "ground, size_ground = get_vertexes_ground()\n",
    "size = size + size_ground\n",
    "\n",
    "# Creating the tree.\n",
    "tree, size_tree = get_vertexes_tree()\n",
    "size = size + size_tree\n",
    "\n",
    "# joining everyone\n",
    "vertexes = np.concatenate((house, person))\n",
    "vertexes = np.concatenate((vertexes, ground))\n",
    "vertexes = np.concatenate((vertexes, tree))\n",
    "size = list(accumulate(size))\n",
    "\n",
    "print(size)"
   ]
  },
  {
   "cell_type": "code",
   "execution_count": 3,
   "metadata": {},
   "outputs": [],
   "source": [
    "# Configuring the screen used to show the objects.\n",
    "window = init_window()\n",
    "program = create_program()\n",
    "send_data_to_gpu(program, vertexes)\n",
    "render_window(window)"
   ]
  },
  {
   "cell_type": "code",
   "execution_count": 4,
   "metadata": {},
   "outputs": [],
   "source": [
    "# Getting GPU variables.\n",
    "loc_color = get_loc_color(program)\n",
    "loc_transformation = get_loc_transformation(program)"
   ]
  },
  {
   "cell_type": "code",
   "execution_count": 5,
   "metadata": {},
   "outputs": [],
   "source": [
    "# Code main loop.\n",
    "while not glfw.window_should_close(window):\n",
    "    # Reading user interactions.\n",
    "    glfw.poll_events() \n",
    "\n",
    "    # Clearing screen and loading a new solid background.\n",
    "    glClear(GL_COLOR_BUFFER_BIT | GL_DEPTH_BUFFER_BIT)    \n",
    "    glClearColor(1.0, 1.0, 1.0, 1.0)\n",
    "\n",
    "    # Drawing the objects.\n",
    "    draw_ground(loc_transformation, loc_color, size)\n",
    "    draw_house(loc_transformation, loc_color)\n",
    "    # draw_person(loc_transformation, loc_color, size)\n",
    "    draw_tree(loc_transformation, loc_color, size)\n",
    "    \n",
    "    # Displaying the next frame.\n",
    "    glfw.swap_buffers(window)\n",
    "\n",
    "glfw.terminate()"
   ]
  }
 ],
 "metadata": {
  "kernelspec": {
   "display_name": "cg",
   "language": "python",
   "name": "python3"
  },
  "language_info": {
   "codemirror_mode": {
    "name": "ipython",
    "version": 3
   },
   "file_extension": ".py",
   "mimetype": "text/x-python",
   "name": "python",
   "nbconvert_exporter": "python",
   "pygments_lexer": "ipython3",
   "version": "3.9.7"
  }
 },
 "nbformat": 4,
 "nbformat_minor": 2
}
