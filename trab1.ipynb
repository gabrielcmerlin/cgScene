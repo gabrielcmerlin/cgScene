{
 "cells": [
  {
   "cell_type": "code",
<<<<<<< HEAD
   "execution_count": 5,
=======
   "execution_count": 6,
>>>>>>> 9ffcb6ee8ba22a674736aca63bcb6e30659706cc
   "metadata": {},
   "outputs": [],
   "source": [
    "from OpenGL.GL import *\n",
    "from config_screen import *\n",
    "from drawings import *\n",
    "from vertexes import *\n",
    "from vertexes import *\n",
    "from itertools import accumulate"
   ]
  },
  {
   "cell_type": "code",
<<<<<<< HEAD
   "execution_count": 6,
=======
   "execution_count": 7,
>>>>>>> 9ffcb6ee8ba22a674736aca63bcb6e30659706cc
   "metadata": {},
   "outputs": [],
   "source": [
    "# Getting all the vertexes used in our project.\n",
    "vertexes = get_vertexes_house()\n",
    "person, size = get_vertexes_person()\n",
    "size = list(accumulate(size))"
   ]
  },
  {
   "cell_type": "code",
<<<<<<< HEAD
   "execution_count": 7,
=======
   "execution_count": 8,
>>>>>>> 9ffcb6ee8ba22a674736aca63bcb6e30659706cc
   "metadata": {},
   "outputs": [
    {
     "ename": "Error",
     "evalue": "Attempt to retrieve context when no valid context",
     "output_type": "error",
     "traceback": [
      "\u001b[0;31m---------------------------------------------------------------------------\u001b[0m",
      "\u001b[0;31mError\u001b[0m                                     Traceback (most recent call last)",
      "Cell \u001b[0;32mIn[7], line 4\u001b[0m\n\u001b[1;32m      2\u001b[0m window \u001b[38;5;241m=\u001b[39m init_window()\n\u001b[1;32m      3\u001b[0m program \u001b[38;5;241m=\u001b[39m create_program()\n\u001b[0;32m----> 4\u001b[0m \u001b[43msend_data_to_gpu\u001b[49m\u001b[43m(\u001b[49m\u001b[43mprogram\u001b[49m\u001b[43m,\u001b[49m\u001b[43m \u001b[49m\u001b[43mvertexes\u001b[49m\u001b[43m)\u001b[49m\n\u001b[1;32m      5\u001b[0m render_window(window)\n",
      "File \u001b[0;32m~/projetos/cg/cgScene/config_screen.py:98\u001b[0m, in \u001b[0;36msend_data_to_gpu\u001b[0;34m(program, vertexes)\u001b[0m\n\u001b[1;32m     96\u001b[0m stride \u001b[38;5;241m=\u001b[39m vertexes\u001b[38;5;241m.\u001b[39mstrides[\u001b[38;5;241m0\u001b[39m]\n\u001b[1;32m     97\u001b[0m offset \u001b[38;5;241m=\u001b[39m ctypes\u001b[38;5;241m.\u001b[39mc_void_p(\u001b[38;5;241m0\u001b[39m)\n\u001b[0;32m---> 98\u001b[0m \u001b[43mglVertexAttribPointer\u001b[49m\u001b[43m(\u001b[49m\u001b[43mloc_vertex\u001b[49m\u001b[43m,\u001b[49m\u001b[43m \u001b[49m\u001b[38;5;241;43m3\u001b[39;49m\u001b[43m,\u001b[49m\u001b[43m \u001b[49m\u001b[43mGL_FLOAT\u001b[49m\u001b[43m,\u001b[49m\u001b[43m \u001b[49m\u001b[38;5;28;43;01mFalse\u001b[39;49;00m\u001b[43m,\u001b[49m\u001b[43m \u001b[49m\u001b[43mstride\u001b[49m\u001b[43m,\u001b[49m\u001b[43m \u001b[49m\u001b[43moffset\u001b[49m\u001b[43m)\u001b[49m\n",
      "File \u001b[0;32msrc/latebind.pyx:51\u001b[0m, in \u001b[0;36mOpenGL_accelerate.latebind.Curry.__call__\u001b[0;34m()\u001b[0m\n",
      "File \u001b[0;32m~/.local/lib/python3.8/site-packages/OpenGL/GL/VERSION/GL_2_0.py:469\u001b[0m, in \u001b[0;36mglVertexAttribPointer\u001b[0;34m(baseOperation, index, size, type, normalized, stride, pointer)\u001b[0m\n\u001b[1;32m    467\u001b[0m array \u001b[38;5;241m=\u001b[39m ArrayDatatype\u001b[38;5;241m.\u001b[39masArray( pointer, \u001b[38;5;28mtype\u001b[39m )\n\u001b[1;32m    468\u001b[0m key \u001b[38;5;241m=\u001b[39m (\u001b[38;5;124m'\u001b[39m\u001b[38;5;124mvertex-attrib\u001b[39m\u001b[38;5;124m'\u001b[39m,index)\n\u001b[0;32m--> 469\u001b[0m \u001b[43mcontextdata\u001b[49m\u001b[38;5;241;43m.\u001b[39;49m\u001b[43msetValue\u001b[49m\u001b[43m(\u001b[49m\u001b[43m \u001b[49m\u001b[43mkey\u001b[49m\u001b[43m,\u001b[49m\u001b[43m \u001b[49m\u001b[43marray\u001b[49m\u001b[43m \u001b[49m\u001b[43m)\u001b[49m\n\u001b[1;32m    470\u001b[0m \u001b[38;5;28;01mreturn\u001b[39;00m baseOperation(\n\u001b[1;32m    471\u001b[0m     index, size, \u001b[38;5;28mtype\u001b[39m,\n\u001b[1;32m    472\u001b[0m     normalized, stride,\n\u001b[1;32m    473\u001b[0m     ArrayDatatype\u001b[38;5;241m.\u001b[39mvoidDataPointer( array )\n\u001b[1;32m    474\u001b[0m )\n",
      "File \u001b[0;32m~/.local/lib/python3.8/site-packages/OpenGL/contextdata.py:58\u001b[0m, in \u001b[0;36msetValue\u001b[0;34m(constant, value, context, weak)\u001b[0m\n\u001b[1;32m     56\u001b[0m \u001b[38;5;28;01mif\u001b[39;00m \u001b[38;5;28mgetattr\u001b[39m( value, \u001b[38;5;124m'\u001b[39m\u001b[38;5;124m_no_cache_\u001b[39m\u001b[38;5;124m'\u001b[39m, \u001b[38;5;28;01mFalse\u001b[39;00m ):\n\u001b[1;32m     57\u001b[0m     \u001b[38;5;28;01mreturn\u001b[39;00m \n\u001b[0;32m---> 58\u001b[0m context \u001b[38;5;241m=\u001b[39m \u001b[43mgetContext\u001b[49m\u001b[43m(\u001b[49m\u001b[43m \u001b[49m\u001b[43mcontext\u001b[49m\u001b[43m \u001b[49m\u001b[43m)\u001b[49m\n\u001b[1;32m     59\u001b[0m \u001b[38;5;28;01mif\u001b[39;00m weak:\n\u001b[1;32m     60\u001b[0m     storage \u001b[38;5;241m=\u001b[39m storedWeakPointers\n",
      "File \u001b[0;32m~/.local/lib/python3.8/site-packages/OpenGL/contextdata.py:40\u001b[0m, in \u001b[0;36mgetContext\u001b[0;34m(context)\u001b[0m\n\u001b[1;32m     38\u001b[0m     \u001b[38;5;28;01mif\u001b[39;00m context \u001b[38;5;241m==\u001b[39m \u001b[38;5;241m0\u001b[39m:\n\u001b[1;32m     39\u001b[0m         \u001b[38;5;28;01mfrom\u001b[39;00m \u001b[38;5;21;01mOpenGL\u001b[39;00m \u001b[38;5;28;01mimport\u001b[39;00m error\n\u001b[0;32m---> 40\u001b[0m         \u001b[38;5;28;01mraise\u001b[39;00m error\u001b[38;5;241m.\u001b[39mError(\n\u001b[1;32m     41\u001b[0m \u001b[38;5;250m            \u001b[39m\u001b[38;5;124;03m\"\"\"Attempt to retrieve context when no valid context\"\"\"\u001b[39;00m\n\u001b[1;32m     42\u001b[0m         )\n\u001b[1;32m     43\u001b[0m \u001b[38;5;28;01mreturn\u001b[39;00m context\n",
      "\u001b[0;31mError\u001b[0m: Attempt to retrieve context when no valid context"
     ]
    }
   ],
   "source": [
    "# Configuring the screen used to show the objects.\n",
    "window = init_window()\n",
    "program = create_program()\n",
    "send_data_to_gpu(program, person)\n",
    "render_window(window)"
   ]
  },
  {
   "cell_type": "code",
<<<<<<< HEAD
   "execution_count": null,
=======
   "execution_count": 9,
>>>>>>> 9ffcb6ee8ba22a674736aca63bcb6e30659706cc
   "metadata": {},
   "outputs": [],
   "source": [
    "# Getting GPU variables.\n",
    "loc_color = get_loc_color(program)\n",
    "loc_transformation = get_loc_transformation(program)"
   ]
  },
  {
   "cell_type": "code",
<<<<<<< HEAD
   "execution_count": null,
=======
   "execution_count": 10,
>>>>>>> 9ffcb6ee8ba22a674736aca63bcb6e30659706cc
   "metadata": {},
   "outputs": [],
   "source": [
    "# Code main loop.\n",
    "while not glfw.window_should_close(window):\n",
    "    # Reading user interactions.\n",
    "    glfw.poll_events() \n",
    "\n",
    "    # Clearing screen and loading a new solid background.\n",
    "    glClear(GL_COLOR_BUFFER_BIT | GL_DEPTH_BUFFER_BIT)\n",
    "    glClearColor(1.0, 1.0, 1.0, 1.0)\n",
    "\n",
    "    # Drawing the objects.\n",
    "    draw_house(loc_transformation, loc_color)\n",
    "    \n",
    "    # Displaying the next frame.\n",
    "    glfw.swap_buffers(window)\n",
    "\n",
    "glfw.terminate()"
   ]
  }
 ],
 "metadata": {
  "kernelspec": {
   "display_name": "cg",
   "language": "python",
   "name": "python3"
  },
  "language_info": {
   "codemirror_mode": {
    "name": "ipython",
    "version": 3
   },
   "file_extension": ".py",
   "mimetype": "text/x-python",
   "name": "python",
   "nbconvert_exporter": "python",
   "pygments_lexer": "ipython3",
   "version": "3.8.10"
  }
 },
 "nbformat": 4,
 "nbformat_minor": 2
}
