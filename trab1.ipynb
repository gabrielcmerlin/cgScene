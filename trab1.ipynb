{
 "cells": [
  {
   "cell_type": "code",
   "execution_count": 1,
   "metadata": {},
   "outputs": [],
   "source": [
    "from OpenGL.GL import *\n",
    "from config_screen import *\n",
    "from drawings import *\n",
    "from vertexes import *\n",
    "from vertexes import *"
   ]
  },
  {
   "cell_type": "code",
   "execution_count": 3,
   "metadata": {},
   "outputs": [
    {
     "name": "stdout",
     "output_type": "stream",
     "text": [
      "{'house': [0, 40], 'person': [40, 2560, 4960], 'ground': [4960, 4964], 'tree': [9880, 12400, 14800]}\n"
     ]
    }
   ],
   "source": [
    "# Getting all the vertexes used in our project.\n",
    "\n",
    "# Creating the house.\n",
    "house = get_vertexes_house()\n",
    "\n",
    "index_vertexes = {}\n",
    "start = 0\n",
    "index_vertexes['house'] = [start,len(house)]\n",
    "start = len(house)\n",
    "\n",
    "# Creating the person\n",
    "person, coords_person = get_vertexes_person()\n",
    "\n",
    "index_vertexes['person'] = [start]\n",
    "for value in coords_person:\n",
    "    index_vertexes['person'].append(index_vertexes['person'][-1] + value)\n",
    "start = len(person) + start\n",
    "\n",
    "# Creating the ground\n",
    "ground, coords_ground, colors = get_vertexes_ground(10000)\n",
    "\n",
    "index_vertexes['ground'] = [start]\n",
    "for value in coords_ground:\n",
    "    index_vertexes['ground'].append(index_vertexes['ground'][-1] + value)\n",
    "start = len(ground) + start\n",
    "\n",
    "# Creating the tree.\n",
    "tree, coords_tree = get_vertexes_tree()\n",
    "\n",
    "index_vertexes['tree'] = [start]\n",
    "for value in coords_tree:\n",
    "    index_vertexes['tree'].append(index_vertexes['tree'][-1] + value)\n",
    "start = len(tree) + start\n",
    "\n",
    "# Joining everyone\n",
    "vertexes = np.concatenate((house, person))\n",
    "vertexes = np.concatenate((vertexes, ground))\n",
    "vertexes = np.concatenate((vertexes, tree))\n",
    "\n",
    "print(index_vertexes)"
   ]
  },
  {
   "cell_type": "code",
   "execution_count": 3,
   "metadata": {},
   "outputs": [],
   "source": [
    "# Configuring the screen used to show the objects.\n",
    "window = init_window()\n",
    "program = create_program()\n",
    "send_data_to_gpu(program, vertexes)\n",
    "render_window(window)"
   ]
  },
  {
   "cell_type": "code",
   "execution_count": 4,
   "metadata": {},
   "outputs": [],
   "source": [
    "# Getting GPU variables.\n",
    "loc_color = get_loc_color(program)\n",
    "loc_transformation = get_loc_transformation(program)"
   ]
  },
  {
   "cell_type": "code",
   "execution_count": 5,
   "metadata": {},
   "outputs": [],
   "source": [
    "# Code main loop.\n",
    "while not glfw.window_should_close(window):\n",
    "    # Reading user interactions.\n",
    "    glfw.poll_events() \n",
    "\n",
    "    # Clearing screen and loading a new solid background.\n",
    "    glClear(GL_COLOR_BUFFER_BIT | GL_DEPTH_BUFFER_BIT)    \n",
    "    glClearColor(1.0, 1.0, 1.0, 1.0)\n",
    "\n",
    "    # Drawing the objects.\n",
    "    draw_ground(loc_transformation, loc_color, index_vertexes, colors)\n",
    "    draw_house(loc_transformation, loc_color)\n",
    "    draw_person(loc_transformation, loc_color, index_vertexes)\n",
    "    draw_tree(loc_transformation, loc_color, index_vertexes)\n",
    "    \n",
    "    # Displaying the next frame.\n",
    "    glfw.swap_buffers(window)\n",
    "\n",
    "glfw.terminate()"
   ]
  }
 ],
 "metadata": {
  "kernelspec": {
   "display_name": "cg",
   "language": "python",
   "name": "python3"
  },
  "language_info": {
   "codemirror_mode": {
    "name": "ipython",
    "version": 3
   },
   "file_extension": ".py",
   "mimetype": "text/x-python",
   "name": "python",
   "nbconvert_exporter": "python",
   "pygments_lexer": "ipython3",
   "version": "3.8.10"
  }
 },
 "nbformat": 4,
 "nbformat_minor": 2
}
