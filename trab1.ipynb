{
 "cells": [
  {
   "cell_type": "code",
   "execution_count": 6,
   "metadata": {},
   "outputs": [],
   "source": [
    "from OpenGL.GL import *\n",
    "from config_screen import *\n",
    "from drawings import *\n",
    "from vertexes import *"
   ]
  },
  {
   "cell_type": "code",
   "execution_count": 7,
   "metadata": {},
   "outputs": [],
   "source": [
    "# Getting all the vertexes used in our project.\n",
    "vertexes = get_vertexes_house()"
   ]
  },
  {
   "cell_type": "code",
   "execution_count": 8,
   "metadata": {},
   "outputs": [],
   "source": [
    "# Configuring the screen used to show the objects.\n",
    "window = init_window()\n",
    "program = create_program()\n",
    "send_data_to_gpu(program, vertexes)\n",
    "render_window(window)"
   ]
  },
  {
   "cell_type": "code",
   "execution_count": 9,
   "metadata": {},
   "outputs": [],
   "source": [
    "# Getting GPU variables.\n",
    "loc_color = get_loc_color(program)\n",
    "loc_transformation = get_loc_transformation(program)"
   ]
  },
  {
   "cell_type": "code",
   "execution_count": 10,
   "metadata": {},
   "outputs": [],
   "source": [
    "# Code main loop.\n",
    "while not glfw.window_should_close(window):\n",
    "    # Reading user interactions.\n",
    "    glfw.poll_events() \n",
    "\n",
    "    # Clearing screen and loading a new solid background.\n",
    "    glClear(GL_COLOR_BUFFER_BIT | GL_DEPTH_BUFFER_BIT)\n",
    "    glClearColor(1.0, 1.0, 1.0, 1.0)\n",
    "\n",
    "    # Drawing the objects.\n",
    "    draw_house(loc_transformation, loc_color)\n",
    "    \n",
    "    # Displaying the next frame.\n",
    "    glfw.swap_buffers(window)\n",
    "\n",
    "glfw.terminate()"
   ]
  }
 ],
 "metadata": {
  "kernelspec": {
   "display_name": "cg",
   "language": "python",
   "name": "python3"
  },
  "language_info": {
   "codemirror_mode": {
    "name": "ipython",
    "version": 3
   },
   "file_extension": ".py",
   "mimetype": "text/x-python",
   "name": "python",
   "nbconvert_exporter": "python",
   "pygments_lexer": "ipython3",
   "version": "3.9.7"
  }
 },
 "nbformat": 4,
 "nbformat_minor": 2
}
